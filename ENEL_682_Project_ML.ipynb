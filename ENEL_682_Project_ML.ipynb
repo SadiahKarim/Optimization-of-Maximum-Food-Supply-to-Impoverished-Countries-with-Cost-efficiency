{
  "nbformat": 4,
  "nbformat_minor": 0,
  "metadata": {
    "colab": {
      "provenance": [],
      "include_colab_link": true
    },
    "kernelspec": {
      "name": "python3",
      "display_name": "Python 3"
    },
    "language_info": {
      "name": "python"
    }
  },
  "cells": [
    {
      "cell_type": "markdown",
      "metadata": {
        "id": "view-in-github",
        "colab_type": "text"
      },
      "source": [
        "<a href=\"https://colab.research.google.com/github/SadiahKarim/Optimization-of-Maximum-Food-Supply-to-Impoverished-Countries-with-Cost-efficiency/blob/main/ENEL_682_Project_ML.ipynb\" target=\"_parent\"><img src=\"https://colab.research.google.com/assets/colab-badge.svg\" alt=\"Open In Colab\"/></a>"
      ]
    },
    {
      "cell_type": "markdown",
      "source": [
        "**Project designed for the course: ENEL682**\n",
        "\n",
        "**Course Instructor:** Professor Leanne Dawson\n",
        "\n",
        "**Group Members:**\n",
        "\n",
        "Name: Sadiah Karim\n",
        "\n",
        "Name: Soptorsi Paul Shrestha\n",
        "\n",
        "Name: Lamiya Sadaf\n",
        "\n",
        "\n"
      ],
      "metadata": {
        "id": "wAhtOgfGnYtx"
      }
    },
    {
      "cell_type": "markdown",
      "source": [
        "**Optimizing Energy Consumption in Smart Buildings: A Machine Learning Approach**\n",
        "\n",
        "**Mission:** EcoSmart Solutions has dedicated its solo mission to reducing energy costs and carbon footprint in the  commercial buildings by leveraging machine learning models in order to maximize energy consumption without compromising comfort or efficiency.\n",
        "\n",
        "**Objective:** To develop and evaluate different machine learning models capable of precisely predicting a building's energy consumption, and to identify strategies for reducing energy expenses through analysis of building infrastructure and weather characteristics.\n"
      ],
      "metadata": {
        "id": "U128x3p9keW3"
      }
    },
    {
      "cell_type": "markdown",
      "source": [
        "**Step 1: Loading Libraries**\n",
        "At this stage, the required libraries were imported."
      ],
      "metadata": {
        "id": "QMneN5bRmSXe"
      }
    },
    {
      "cell_type": "code",
      "execution_count": null,
      "metadata": {
        "colab": {
          "base_uri": "https://localhost:8080/"
        },
        "id": "2FMvjK8FDQDY",
        "outputId": "85bd197a-410e-4334-f2a6-7bd200309756"
      },
      "outputs": [
        {
          "output_type": "stream",
          "name": "stdout",
          "text": [
            "Libraries imported successfully!\n"
          ]
        }
      ],
      "source": [
        "# Data manipulation and analysis\n",
        "import pandas as pd\n",
        "import numpy as np\n",
        "\n",
        "# Data visualization\n",
        "import matplotlib.pyplot as plt\n",
        "import seaborn as sns\n",
        "\n",
        "# Machine learning - model selection and evaluation\n",
        "from sklearn.model_selection import train_test_split, GridSearchCV, cross_val_score\n",
        "from sklearn.metrics import mean_squared_error, r2_score, mean_absolute_error\n",
        "\n",
        "# Machine learning - preprocessing\n",
        "from sklearn.preprocessing import StandardScaler, OneHotEncoder\n",
        "from sklearn.compose import ColumnTransformer\n",
        "from sklearn.pipeline import Pipeline\n",
        "\n",
        "# Machine learning models\n",
        "from sklearn.tree import DecisionTreeRegressor\n",
        "from sklearn.ensemble import RandomForestRegressor, GradientBoostingRegressor\n",
        "\n",
        "# Set plotting style\n",
        "sns.set(style=\"whitegrid\")\n",
        "\n",
        "# Suppress warnings\n",
        "import warnings\n",
        "warnings.filterwarnings('ignore')\n",
        "\n",
        "print(\"Libraries imported successfully!\")\n"
      ]
    },
    {
      "cell_type": "markdown",
      "source": [
        "**Step 2: Loading Data from ASHRAE - Great Energy Predictor III and uploaded in drive**\n",
        "\n",
        "Data URL: https://www.kaggle.com/competitions/ashrae-energy-prediction/data"
      ],
      "metadata": {
        "id": "F_Xnrvudmgcl"
      }
    },
    {
      "cell_type": "code",
      "source": [
        "from google.colab import drive\n",
        "drive.mount('/content/drive')"
      ],
      "metadata": {
        "colab": {
          "base_uri": "https://localhost:8080/"
        },
        "id": "I1Zd-uEJFkHv",
        "outputId": "a738a9ce-40cf-4bbf-81d7-7479f916a0ca"
      },
      "execution_count": null,
      "outputs": [
        {
          "output_type": "stream",
          "name": "stdout",
          "text": [
            "Mounted at /content/drive\n"
          ]
        }
      ]
    },
    {
      "cell_type": "code",
      "source": [
        "%cd /content/drive/My Drive"
      ],
      "metadata": {
        "colab": {
          "base_uri": "https://localhost:8080/"
        },
        "id": "s_e91jC0Frvk",
        "outputId": "8f0552bd-adc1-4af8-c451-2f5ab4f0392f"
      },
      "execution_count": null,
      "outputs": [
        {
          "output_type": "stream",
          "name": "stdout",
          "text": [
            "/content/drive/My Drive\n"
          ]
        }
      ]
    },
    {
      "cell_type": "code",
      "source": [
        "import pandas as pd\n",
        "df = pd.read_csv('/content/drive/My Drive/building_metadata.csv')\n",
        "df = pd.read_csv('/content/drive/My Drive/weather_train.csv')"
      ],
      "metadata": {
        "id": "8RYkxbI6FItx"
      },
      "execution_count": null,
      "outputs": []
    },
    {
      "cell_type": "code",
      "source": [
        "import pandas as pd\n",
        "\n",
        "# Code to read in the dataset - DO NOT CHANGE\n",
        "data = pd.read_csv('building_metadata.csv')\n",
        "data1= pd.read_csv('weather_train.csv')"
      ],
      "metadata": {
        "id": "sck9Ng_AF96T"
      },
      "execution_count": null,
      "outputs": []
    },
    {
      "cell_type": "markdown",
      "source": [
        "**Step 2.1: Merging 2 Datasets to maximize features**"
      ],
      "metadata": {
        "id": "_MXvv5gCmovw"
      }
    },
    {
      "cell_type": "code",
      "source": [
        "import pandas as pd\n",
        "\n",
        "# Assuming the datasets are already loaded into these DataFrames\n",
        "building_metadata = pd.read_csv('building_metadata.csv')\n",
        "weather_train = pd.read_csv('weather_train.csv')\n",
        "\n",
        "# Step 1: Convert 'timestamp' in weather data to datetime format for accurate merging\n",
        "weather_train['timestamp'] = pd.to_datetime(weather_train['timestamp'])\n",
        "\n",
        "# Step 2: Merge building metadata with weather training data\n",
        "# The merge is based on 'site_id' and the datetime 'timestamp'\n",
        "# Note: This simple example assumes you're merging with the weather_train data for initial model training purposes.\n",
        "# For actual model evaluation or testing, you would merge with weather_test similarly.\n",
        "\n",
        "# If the building metadata also contains a 'timestamp' for when the information was recorded, ensure it's converted to datetime.\n",
        "# This example assumes building metadata does not need this conversion (commonly, building metadata won't have a 'timestamp').\n",
        "\n",
        "merged_data = pd.merge(building_metadata, weather_train, on='site_id', how='left')\n",
        "\n",
        "# Display the first few rows of the merged dataset to verify the merge\n",
        "print(merged_data.head())\n",
        "\n",
        "# Check the shape of the merged dataset\n",
        "print(\"Shape of the merged dataset:\", merged_data.shape)\n"
      ],
      "metadata": {
        "colab": {
          "base_uri": "https://localhost:8080/"
        },
        "id": "kKehmIi6KFKA",
        "outputId": "81d45ee9-bb3c-48a8-b798-5044ee3325a2"
      },
      "execution_count": null,
      "outputs": [
        {
          "output_type": "stream",
          "name": "stdout",
          "text": [
            "   site_id  building_id primary_use  square_feet  year_built  floor_count  \\\n",
            "0        0            0   Education         7432      2008.0          NaN   \n",
            "1        0            0   Education         7432      2008.0          NaN   \n",
            "2        0            0   Education         7432      2008.0          NaN   \n",
            "3        0            0   Education         7432      2008.0          NaN   \n",
            "4        0            0   Education         7432      2008.0          NaN   \n",
            "\n",
            "            timestamp  air_temperature  cloud_coverage  dew_temperature  \\\n",
            "0 2016-01-01 00:00:00             25.0             6.0             20.0   \n",
            "1 2016-01-01 01:00:00             24.4             NaN             21.1   \n",
            "2 2016-01-01 02:00:00             22.8             2.0             21.1   \n",
            "3 2016-01-01 03:00:00             21.1             2.0             20.6   \n",
            "4 2016-01-01 04:00:00             20.0             2.0             20.0   \n",
            "\n",
            "   precip_depth_1_hr  sea_level_pressure  wind_direction  wind_speed  \n",
            "0                NaN              1019.7             0.0         0.0  \n",
            "1               -1.0              1020.2            70.0         1.5  \n",
            "2                0.0              1020.2             0.0         0.0  \n",
            "3                0.0              1020.1             0.0         0.0  \n",
            "4               -1.0              1020.0           250.0         2.6  \n",
            "Shape of the merged dataset: (12676166, 14)\n"
          ]
        }
      ]
    },
    {
      "cell_type": "markdown",
      "source": [
        "**Step 2.2: Creating Dataframe**"
      ],
      "metadata": {
        "id": "Ob77S3Esm8ob"
      }
    },
    {
      "cell_type": "code",
      "source": [
        "# Import necessary libraries\n",
        "import pandas as pd\n",
        "import numpy as np\n",
        "\n",
        "# Assuming 'merged_data' is your DataFrame after merging building metadata with weather data\n",
        "# Ensure 'timestamp' is a datetime column\n",
        "merged_data['timestamp'] = pd.to_datetime(merged_data['timestamp'])\n",
        "\n",
        "# Derive time-based features\n",
        "merged_data['hour'] = merged_data['timestamp'].dt.hour\n",
        "merged_data['day_of_week'] = merged_data['timestamp'].dt.dayofweek\n",
        "merged_data['month'] = merged_data['timestamp'].dt.month\n",
        "\n",
        "# Proxy for presumed occupancy (1 for likely occupied, 0 for likely not)\n",
        "# Assuming standard working hours for office and education as 8-18 on weekdays\n",
        "merged_data['presumed_occupancy'] = ((merged_data['primary_use'].isin(['Office', 'Education'])) &\n",
        "                                     (merged_data['hour'] >= 8) & (merged_data['hour'] <= 18) &\n",
        "                                     (merged_data['day_of_week'] <= 4)).astype(int)\n",
        "\n",
        "# Proxy for HVAC usage based on temperature outside of comfort zone (18°C to 24°C)\n",
        "merged_data['hvac_usage_proxy'] = ((merged_data['air_temperature'] < 18) | (merged_data['air_temperature'] > 24)).astype(int)\n",
        "\n",
        "# Proxy for lighting usage based on hour of the day (increased usage during early morning and late evening)\n",
        "merged_data['lighting_usage_proxy'] = ((merged_data['hour'] < 8) | (merged_data['hour'] > 18)).astype(int)\n",
        "\n",
        "# Display the first few rows to check the new columns\n",
        "print(merged_data[['presumed_occupancy', 'hvac_usage_proxy', 'lighting_usage_proxy']].head())\n"
      ],
      "metadata": {
        "colab": {
          "base_uri": "https://localhost:8080/"
        },
        "id": "XDLcJSIgMtDL",
        "outputId": "e5d6d0be-b107-4f48-b7b0-edb3b5e97b2e"
      },
      "execution_count": null,
      "outputs": [
        {
          "output_type": "stream",
          "name": "stdout",
          "text": [
            "   presumed_occupancy  hvac_usage_proxy  lighting_usage_proxy\n",
            "0                   0                 1                     1\n",
            "1                   0                 1                     1\n",
            "2                   0                 0                     1\n",
            "3                   0                 0                     1\n",
            "4                   0                 0                     1\n"
          ]
        }
      ]
    },
    {
      "cell_type": "code",
      "source": [
        "# Assuming merged_data contains all your merged and derived features\n",
        "\n",
        "# Encode categorical variables\n",
        "categorical_features = ['primary_use']  # Add more categorical features as needed\n",
        "categorical_transformer = Pipeline(steps=[\n",
        "    ('onehot', OneHotEncoder(handle_unknown='ignore'))\n",
        "])\n",
        "\n",
        "# Normalize/Standardize numerical features (if needed)\n",
        "numerical_features = ['square_feet', 'year_built', 'air_temperature']  # Add more numerical features as needed\n",
        "numerical_transformer = Pipeline(steps=[\n",
        "    ('scaler', StandardScaler())\n",
        "])\n",
        "\n",
        "# Combine transformations\n",
        "preprocessor = ColumnTransformer(\n",
        "    transformers=[\n",
        "        ('num', numerical_transformer, numerical_features),\n",
        "        ('cat', categorical_transformer, categorical_features)\n",
        "    ])\n",
        "\n",
        "# Apply transformations to features only\n",
        "X_processed = preprocessor.fit_transform(merged_data)\n",
        "\n",
        "# Now, X_processed is ready for model training once you have a target variable\n"
      ],
      "metadata": {
        "id": "cL9l0lwANMVL"
      },
      "execution_count": null,
      "outputs": []
    },
    {
      "cell_type": "markdown",
      "source": [
        "**Step 2.3: Deriving and assigning a synthetic \"Energy Efficiency Rating\" for setting target variable**"
      ],
      "metadata": {
        "id": "AT6f47gbnHYr"
      }
    },
    {
      "cell_type": "code",
      "source": [
        "# Example: Assigning a synthetic \"Energy Efficiency Rating\"\n",
        "import numpy as np\n",
        "\n",
        "# Normalize building age and size for use in rating calculation\n",
        "current_year = pd.Timestamp.now().year\n",
        "merged_data['Building_Age'] = current_year - merged_data['year_built']\n",
        "merged_data['Normalized_Size'] = np.log(merged_data['square_feet'])\n",
        "\n",
        "# Create a synthetic \"Energy Efficiency Rating\" based on hypothetical rules\n",
        "conditions = [\n",
        "    (merged_data['Normalized_Size'] < 8) & (merged_data['Building_Age'] > 50),\n",
        "    (merged_data['Normalized_Size'] >= 8) & (merged_data['Building_Age'] <= 50),\n",
        "    (merged_data['primary_use'] == 'Education'),\n",
        "    (merged_data['primary_use'] == 'Office')\n",
        "]\n",
        "\n",
        "choices = [1, 2, 3, 4] # Hypothetical rating tiers, where 1 might indicate least efficient and 4 most efficient\n",
        "merged_data['Energy_Efficiency_Rating'] = np.select(conditions, choices, default=0)\n",
        "\n",
        "# Now, \"Energy_Efficiency_Rating\" is your synthetic target variable\n"
      ],
      "metadata": {
        "id": "yv8OZArpRFv-"
      },
      "execution_count": null,
      "outputs": []
    },
    {
      "cell_type": "markdown",
      "source": [
        "**Step 2.4: Defining Feature Matrix and Target variable**"
      ],
      "metadata": {
        "id": "R63y5EjCnPYH"
      }
    },
    {
      "cell_type": "code",
      "source": [
        "# Separate the feature matrix (A) and the target vector (B)\n",
        "A = merged_data.drop('Energy_Efficiency_Rating', axis=1)  # Feature matrix excludes the target variable\n",
        "B = merged_data['Energy_Efficiency_Rating']  # Target vector\n",
        "\n",
        "# Print the shapes of A and B\n",
        "print(\"Shape of A:\", A.shape)\n",
        "print(\"Shape of B:\", B.shape)\n"
      ],
      "metadata": {
        "colab": {
          "base_uri": "https://localhost:8080/"
        },
        "id": "MnickOAAP236",
        "outputId": "7e3ffb55-6d51-4dd2-8d69-6fa81100424c"
      },
      "execution_count": null,
      "outputs": [
        {
          "output_type": "stream",
          "name": "stdout",
          "text": [
            "Shape of A: (12676166, 22)\n",
            "Shape of B: (12676166,)\n"
          ]
        }
      ]
    },
    {
      "cell_type": "markdown",
      "source": [
        "**Step 2.5: Finding Out missing values**"
      ],
      "metadata": {
        "id": "rPacR6AXnU_R"
      }
    },
    {
      "cell_type": "code",
      "source": [
        "# Sum of missing values in each column of the feature matrix A\n",
        "missing_values_A = A.isnull().sum()\n",
        "\n",
        "# Only display columns with missing values, if any\n",
        "missing_columns_A = missing_values_A[missing_values_A > 0]\n",
        "print(\"Missing values in A:\\n\", missing_columns_A)\n"
      ],
      "metadata": {
        "colab": {
          "base_uri": "https://localhost:8080/"
        },
        "id": "Zj7LLsrwRlYe",
        "outputId": "a9d7da4b-f574-4c8d-d87e-b5b79d4f30fc"
      },
      "execution_count": null,
      "outputs": [
        {
          "output_type": "stream",
          "name": "stdout",
          "text": [
            "Missing values in A:\n",
            " year_built            6790739\n",
            "floor_count           9564460\n",
            "air_temperature          4021\n",
            "cloud_coverage        5621144\n",
            "dew_temperature          5921\n",
            "precip_depth_1_hr     2681830\n",
            "sea_level_pressure     989155\n",
            "wind_direction         661950\n",
            "wind_speed              24874\n",
            "Building_Age          6790739\n",
            "dtype: int64\n"
          ]
        }
      ]
    },
    {
      "cell_type": "code",
      "source": [
        "# Total missing values in the target vector B\n",
        "missing_values_B = B.isnull().sum()\n",
        "print(\"Missing values in B:\", missing_values_B)\n"
      ],
      "metadata": {
        "colab": {
          "base_uri": "https://localhost:8080/"
        },
        "id": "H8l4ORLoRoOT",
        "outputId": "91085a17-ba28-4390-d721-cb80b1360302"
      },
      "execution_count": null,
      "outputs": [
        {
          "output_type": "stream",
          "name": "stdout",
          "text": [
            "Missing values in B: 0\n"
          ]
        }
      ]
    },
    {
      "cell_type": "markdown",
      "source": [
        "**Step 2.6: Dealing with missing values**"
      ],
      "metadata": {
        "id": "wY1-MWBcnZ7c"
      }
    },
    {
      "cell_type": "code",
      "source": [
        "# Drop rows with missing values in the feature matrix A\n",
        "A_cleaned = A.dropna()\n",
        "\n",
        "# Print the shape of A after handling missing values\n",
        "print(\"Shape of A after handling missing values:\", A_cleaned.shape)\n",
        "\n",
        "\n"
      ],
      "metadata": {
        "colab": {
          "base_uri": "https://localhost:8080/"
        },
        "id": "WfP9MMV5am3j",
        "outputId": "eae3f382-14f5-406e-82dc-b82426d4e7a7"
      },
      "execution_count": null,
      "outputs": [
        {
          "output_type": "stream",
          "name": "stdout",
          "text": [
            "Shape of A after handling missing values: (340959, 22)\n"
          ]
        }
      ]
    },
    {
      "cell_type": "markdown",
      "source": [
        "**Step 2.7: Shaping the Feature Matrix and Target variable with the same size**"
      ],
      "metadata": {
        "id": "1uLrutiEnd8d"
      }
    },
    {
      "cell_type": "code",
      "source": [
        "import pandas as pd\n",
        "\n",
        "# Assuming A and B are Pandas DataFrames\n",
        "# Drop rows with missing values from A\n",
        "A_filtered = A.dropna()\n",
        "\n",
        "# Filter B based on the indices of non-missing values in A\n",
        "B_filtered = B.loc[A_filtered.index]\n",
        "\n",
        "# Verify the shapes\n",
        "print(\"Shape of A after handling missing values:\", A_filtered.shape)\n",
        "print(\"Shape of B after filtering:\", B_filtered.shape)\n"
      ],
      "metadata": {
        "id": "XuWqbZD3b5O0",
        "colab": {
          "base_uri": "https://localhost:8080/"
        },
        "outputId": "c1edb4b8-7d66-46c6-91a3-e56bc5747f63"
      },
      "execution_count": null,
      "outputs": [
        {
          "output_type": "stream",
          "name": "stdout",
          "text": [
            "Shape of A after handling missing values: (340959, 22)\n",
            "Shape of B after filtering: (340959,)\n"
          ]
        }
      ]
    },
    {
      "cell_type": "markdown",
      "source": [
        "**Step 2.8: Subsidizing the dataset and minimizing to make the dataset simple for the methods**"
      ],
      "metadata": {
        "id": "rteLy_8HnmxP"
      }
    },
    {
      "cell_type": "code",
      "source": [
        "import pandas as pd\n",
        "\n",
        "# Assuming A is your feature matrix and B is your target variable\n",
        "\n",
        "# Sample a smaller portion of your dataset\n",
        "# Adjust the fraction as needed, for example, 0.1 for 10% of the data\n",
        "A_sampled = A_filtered.sample(frac=0.1, random_state=42)  # Random state for reproducibility\n",
        "\n",
        "# Ensure that the sampled features align with the target variable\n",
        "B_sampled = B_filtered.loc[A_sampled.index]\n",
        "\n",
        "# Verify the shape of the sampled data\n",
        "print(\"Shape of sampled A:\", A_sampled.shape)\n",
        "print(\"Shape of sampled B:\", B_sampled.shape)\n"
      ],
      "metadata": {
        "colab": {
          "base_uri": "https://localhost:8080/"
        },
        "id": "uR4drcD7jABS",
        "outputId": "68cdc470-3716-4c0d-a9fa-9d7d57f42b76"
      },
      "execution_count": null,
      "outputs": [
        {
          "output_type": "stream",
          "name": "stdout",
          "text": [
            "Shape of sampled A: (34096, 22)\n",
            "Shape of sampled B: (34096,)\n"
          ]
        }
      ]
    },
    {
      "cell_type": "markdown",
      "source": [
        "**Step 3: Data Preprocessing**\n",
        "\n",
        "In this scenario, the following will be utilized:\n",
        "- `OneHotEncoder(sparse_output=False)` for categorical columns\n",
        "- `StandardScaler()` for numerical columns"
      ],
      "metadata": {
        "id": "rOkSu8Q5nwDH"
      }
    },
    {
      "cell_type": "code",
      "source": [
        "from sklearn.preprocessing import StandardScaler, OneHotEncoder\n",
        "from sklearn.compose import ColumnTransformer\n",
        "\n",
        "# Assuming A_sampled is your feature matrix and B_sampled is your target variable\n",
        "\n",
        "# Separate numerical and categorical features\n",
        "numerical_features = A_sampled.select_dtypes(include=['int', 'float']).columns\n",
        "categorical_features = A_sampled.select_dtypes(include=['object']).columns\n",
        "\n",
        "# Define preprocessing steps for numerical and categorical features\n",
        "preprocessor = ColumnTransformer(\n",
        "    transformers=[\n",
        "        ('num', StandardScaler(), numerical_features),  # Scale numerical features\n",
        "        ('cat', OneHotEncoder(), categorical_features)  # One-hot encode categorical features\n",
        "    ])\n",
        "\n",
        "# Apply preprocessing\n",
        "A_preprocessed = preprocessor.fit_transform(A_sampled)\n",
        "\n",
        "# Verify the shape of preprocessed A\n",
        "print(\"Shape of preprocessed A:\", A_preprocessed.shape)\n"
      ],
      "metadata": {
        "id": "73PG3MASgReI",
        "colab": {
          "base_uri": "https://localhost:8080/"
        },
        "outputId": "68e12651-71c9-45b2-b54f-1605a27dc66b"
      },
      "execution_count": null,
      "outputs": [
        {
          "output_type": "stream",
          "name": "stdout",
          "text": [
            "Shape of preprocessed A: (34096, 27)\n"
          ]
        }
      ]
    },
    {
      "cell_type": "markdown",
      "source": [
        "**Step 4: Pipeline**\n",
        "\n",
        "\n",
        "The following stage involves creating a pipeline that integrates the ColumnTransformer with our chosen machine learning technique. For the initial setup of the pipeline, `LinearRegression()` will be employed as a temporary stand-in."
      ],
      "metadata": {
        "id": "Jkoo7XtNn13U"
      }
    },
    {
      "cell_type": "code",
      "source": [
        "from sklearn.linear_model import LinearRegression\n",
        "\n",
        "# Initialize the pipeline with preprocessing and Linear Regression\n",
        "pipeline = Pipeline(steps=[\n",
        "    ('preprocessor', preprocessor),\n",
        "    ('regressor', LinearRegression())  # Placeholder for Linear Regression\n",
        "])\n",
        "\n",
        "# Train the pipeline\n",
        "pipeline.fit(A_sampled, B_sampled)\n",
        "\n",
        "# Example of predicting with the trained pipeline\n",
        "# pipeline.predict(new_data)\n"
      ],
      "metadata": {
        "colab": {
          "base_uri": "https://localhost:8080/",
          "height": 189
        },
        "id": "5VV1sPWsmKsS",
        "outputId": "4dc2f41a-e1c2-4dfa-ce43-32017ba2d248"
      },
      "execution_count": null,
      "outputs": [
        {
          "output_type": "execute_result",
          "data": {
            "text/plain": [
              "Pipeline(steps=[('preprocessor',\n",
              "                 ColumnTransformer(transformers=[('num', StandardScaler(),\n",
              "                                                  Index(['site_id', 'building_id', 'square_feet', 'year_built', 'floor_count',\n",
              "       'air_temperature', 'cloud_coverage', 'dew_temperature',\n",
              "       'precip_depth_1_hr', 'sea_level_pressure', 'wind_direction',\n",
              "       'wind_speed', 'hour', 'day_of_week', 'month', 'presumed_occupancy',\n",
              "       'hvac_usage_proxy', 'lighting_usage_proxy', 'Building_Age',\n",
              "       'Normalized_Size'],\n",
              "      dtype='object')),\n",
              "                                                 ('cat', OneHotEncoder(),\n",
              "                                                  Index(['primary_use'], dtype='object'))])),\n",
              "                ('regressor', LinearRegression())])"
            ],
            "text/html": [
              "<style>#sk-container-id-1 {color: black;background-color: white;}#sk-container-id-1 pre{padding: 0;}#sk-container-id-1 div.sk-toggleable {background-color: white;}#sk-container-id-1 label.sk-toggleable__label {cursor: pointer;display: block;width: 100%;margin-bottom: 0;padding: 0.3em;box-sizing: border-box;text-align: center;}#sk-container-id-1 label.sk-toggleable__label-arrow:before {content: \"▸\";float: left;margin-right: 0.25em;color: #696969;}#sk-container-id-1 label.sk-toggleable__label-arrow:hover:before {color: black;}#sk-container-id-1 div.sk-estimator:hover label.sk-toggleable__label-arrow:before {color: black;}#sk-container-id-1 div.sk-toggleable__content {max-height: 0;max-width: 0;overflow: hidden;text-align: left;background-color: #f0f8ff;}#sk-container-id-1 div.sk-toggleable__content pre {margin: 0.2em;color: black;border-radius: 0.25em;background-color: #f0f8ff;}#sk-container-id-1 input.sk-toggleable__control:checked~div.sk-toggleable__content {max-height: 200px;max-width: 100%;overflow: auto;}#sk-container-id-1 input.sk-toggleable__control:checked~label.sk-toggleable__label-arrow:before {content: \"▾\";}#sk-container-id-1 div.sk-estimator input.sk-toggleable__control:checked~label.sk-toggleable__label {background-color: #d4ebff;}#sk-container-id-1 div.sk-label input.sk-toggleable__control:checked~label.sk-toggleable__label {background-color: #d4ebff;}#sk-container-id-1 input.sk-hidden--visually {border: 0;clip: rect(1px 1px 1px 1px);clip: rect(1px, 1px, 1px, 1px);height: 1px;margin: -1px;overflow: hidden;padding: 0;position: absolute;width: 1px;}#sk-container-id-1 div.sk-estimator {font-family: monospace;background-color: #f0f8ff;border: 1px dotted black;border-radius: 0.25em;box-sizing: border-box;margin-bottom: 0.5em;}#sk-container-id-1 div.sk-estimator:hover {background-color: #d4ebff;}#sk-container-id-1 div.sk-parallel-item::after {content: \"\";width: 100%;border-bottom: 1px solid gray;flex-grow: 1;}#sk-container-id-1 div.sk-label:hover label.sk-toggleable__label {background-color: #d4ebff;}#sk-container-id-1 div.sk-serial::before {content: \"\";position: absolute;border-left: 1px solid gray;box-sizing: border-box;top: 0;bottom: 0;left: 50%;z-index: 0;}#sk-container-id-1 div.sk-serial {display: flex;flex-direction: column;align-items: center;background-color: white;padding-right: 0.2em;padding-left: 0.2em;position: relative;}#sk-container-id-1 div.sk-item {position: relative;z-index: 1;}#sk-container-id-1 div.sk-parallel {display: flex;align-items: stretch;justify-content: center;background-color: white;position: relative;}#sk-container-id-1 div.sk-item::before, #sk-container-id-1 div.sk-parallel-item::before {content: \"\";position: absolute;border-left: 1px solid gray;box-sizing: border-box;top: 0;bottom: 0;left: 50%;z-index: -1;}#sk-container-id-1 div.sk-parallel-item {display: flex;flex-direction: column;z-index: 1;position: relative;background-color: white;}#sk-container-id-1 div.sk-parallel-item:first-child::after {align-self: flex-end;width: 50%;}#sk-container-id-1 div.sk-parallel-item:last-child::after {align-self: flex-start;width: 50%;}#sk-container-id-1 div.sk-parallel-item:only-child::after {width: 0;}#sk-container-id-1 div.sk-dashed-wrapped {border: 1px dashed gray;margin: 0 0.4em 0.5em 0.4em;box-sizing: border-box;padding-bottom: 0.4em;background-color: white;}#sk-container-id-1 div.sk-label label {font-family: monospace;font-weight: bold;display: inline-block;line-height: 1.2em;}#sk-container-id-1 div.sk-label-container {text-align: center;}#sk-container-id-1 div.sk-container {/* jupyter's `normalize.less` sets `[hidden] { display: none; }` but bootstrap.min.css set `[hidden] { display: none !important; }` so we also need the `!important` here to be able to override the default hidden behavior on the sphinx rendered scikit-learn.org. See: https://github.com/scikit-learn/scikit-learn/issues/21755 */display: inline-block !important;position: relative;}#sk-container-id-1 div.sk-text-repr-fallback {display: none;}</style><div id=\"sk-container-id-1\" class=\"sk-top-container\"><div class=\"sk-text-repr-fallback\"><pre>Pipeline(steps=[(&#x27;preprocessor&#x27;,\n",
              "                 ColumnTransformer(transformers=[(&#x27;num&#x27;, StandardScaler(),\n",
              "                                                  Index([&#x27;site_id&#x27;, &#x27;building_id&#x27;, &#x27;square_feet&#x27;, &#x27;year_built&#x27;, &#x27;floor_count&#x27;,\n",
              "       &#x27;air_temperature&#x27;, &#x27;cloud_coverage&#x27;, &#x27;dew_temperature&#x27;,\n",
              "       &#x27;precip_depth_1_hr&#x27;, &#x27;sea_level_pressure&#x27;, &#x27;wind_direction&#x27;,\n",
              "       &#x27;wind_speed&#x27;, &#x27;hour&#x27;, &#x27;day_of_week&#x27;, &#x27;month&#x27;, &#x27;presumed_occupancy&#x27;,\n",
              "       &#x27;hvac_usage_proxy&#x27;, &#x27;lighting_usage_proxy&#x27;, &#x27;Building_Age&#x27;,\n",
              "       &#x27;Normalized_Size&#x27;],\n",
              "      dtype=&#x27;object&#x27;)),\n",
              "                                                 (&#x27;cat&#x27;, OneHotEncoder(),\n",
              "                                                  Index([&#x27;primary_use&#x27;], dtype=&#x27;object&#x27;))])),\n",
              "                (&#x27;regressor&#x27;, LinearRegression())])</pre><b>In a Jupyter environment, please rerun this cell to show the HTML representation or trust the notebook. <br />On GitHub, the HTML representation is unable to render, please try loading this page with nbviewer.org.</b></div><div class=\"sk-container\" hidden><div class=\"sk-item sk-dashed-wrapped\"><div class=\"sk-label-container\"><div class=\"sk-label sk-toggleable\"><input class=\"sk-toggleable__control sk-hidden--visually\" id=\"sk-estimator-id-1\" type=\"checkbox\" ><label for=\"sk-estimator-id-1\" class=\"sk-toggleable__label sk-toggleable__label-arrow\">Pipeline</label><div class=\"sk-toggleable__content\"><pre>Pipeline(steps=[(&#x27;preprocessor&#x27;,\n",
              "                 ColumnTransformer(transformers=[(&#x27;num&#x27;, StandardScaler(),\n",
              "                                                  Index([&#x27;site_id&#x27;, &#x27;building_id&#x27;, &#x27;square_feet&#x27;, &#x27;year_built&#x27;, &#x27;floor_count&#x27;,\n",
              "       &#x27;air_temperature&#x27;, &#x27;cloud_coverage&#x27;, &#x27;dew_temperature&#x27;,\n",
              "       &#x27;precip_depth_1_hr&#x27;, &#x27;sea_level_pressure&#x27;, &#x27;wind_direction&#x27;,\n",
              "       &#x27;wind_speed&#x27;, &#x27;hour&#x27;, &#x27;day_of_week&#x27;, &#x27;month&#x27;, &#x27;presumed_occupancy&#x27;,\n",
              "       &#x27;hvac_usage_proxy&#x27;, &#x27;lighting_usage_proxy&#x27;, &#x27;Building_Age&#x27;,\n",
              "       &#x27;Normalized_Size&#x27;],\n",
              "      dtype=&#x27;object&#x27;)),\n",
              "                                                 (&#x27;cat&#x27;, OneHotEncoder(),\n",
              "                                                  Index([&#x27;primary_use&#x27;], dtype=&#x27;object&#x27;))])),\n",
              "                (&#x27;regressor&#x27;, LinearRegression())])</pre></div></div></div><div class=\"sk-serial\"><div class=\"sk-item sk-dashed-wrapped\"><div class=\"sk-label-container\"><div class=\"sk-label sk-toggleable\"><input class=\"sk-toggleable__control sk-hidden--visually\" id=\"sk-estimator-id-2\" type=\"checkbox\" ><label for=\"sk-estimator-id-2\" class=\"sk-toggleable__label sk-toggleable__label-arrow\">preprocessor: ColumnTransformer</label><div class=\"sk-toggleable__content\"><pre>ColumnTransformer(transformers=[(&#x27;num&#x27;, StandardScaler(),\n",
              "                                 Index([&#x27;site_id&#x27;, &#x27;building_id&#x27;, &#x27;square_feet&#x27;, &#x27;year_built&#x27;, &#x27;floor_count&#x27;,\n",
              "       &#x27;air_temperature&#x27;, &#x27;cloud_coverage&#x27;, &#x27;dew_temperature&#x27;,\n",
              "       &#x27;precip_depth_1_hr&#x27;, &#x27;sea_level_pressure&#x27;, &#x27;wind_direction&#x27;,\n",
              "       &#x27;wind_speed&#x27;, &#x27;hour&#x27;, &#x27;day_of_week&#x27;, &#x27;month&#x27;, &#x27;presumed_occupancy&#x27;,\n",
              "       &#x27;hvac_usage_proxy&#x27;, &#x27;lighting_usage_proxy&#x27;, &#x27;Building_Age&#x27;,\n",
              "       &#x27;Normalized_Size&#x27;],\n",
              "      dtype=&#x27;object&#x27;)),\n",
              "                                (&#x27;cat&#x27;, OneHotEncoder(),\n",
              "                                 Index([&#x27;primary_use&#x27;], dtype=&#x27;object&#x27;))])</pre></div></div></div><div class=\"sk-parallel\"><div class=\"sk-parallel-item\"><div class=\"sk-item\"><div class=\"sk-label-container\"><div class=\"sk-label sk-toggleable\"><input class=\"sk-toggleable__control sk-hidden--visually\" id=\"sk-estimator-id-3\" type=\"checkbox\" ><label for=\"sk-estimator-id-3\" class=\"sk-toggleable__label sk-toggleable__label-arrow\">num</label><div class=\"sk-toggleable__content\"><pre>Index([&#x27;site_id&#x27;, &#x27;building_id&#x27;, &#x27;square_feet&#x27;, &#x27;year_built&#x27;, &#x27;floor_count&#x27;,\n",
              "       &#x27;air_temperature&#x27;, &#x27;cloud_coverage&#x27;, &#x27;dew_temperature&#x27;,\n",
              "       &#x27;precip_depth_1_hr&#x27;, &#x27;sea_level_pressure&#x27;, &#x27;wind_direction&#x27;,\n",
              "       &#x27;wind_speed&#x27;, &#x27;hour&#x27;, &#x27;day_of_week&#x27;, &#x27;month&#x27;, &#x27;presumed_occupancy&#x27;,\n",
              "       &#x27;hvac_usage_proxy&#x27;, &#x27;lighting_usage_proxy&#x27;, &#x27;Building_Age&#x27;,\n",
              "       &#x27;Normalized_Size&#x27;],\n",
              "      dtype=&#x27;object&#x27;)</pre></div></div></div><div class=\"sk-serial\"><div class=\"sk-item\"><div class=\"sk-estimator sk-toggleable\"><input class=\"sk-toggleable__control sk-hidden--visually\" id=\"sk-estimator-id-4\" type=\"checkbox\" ><label for=\"sk-estimator-id-4\" class=\"sk-toggleable__label sk-toggleable__label-arrow\">StandardScaler</label><div class=\"sk-toggleable__content\"><pre>StandardScaler()</pre></div></div></div></div></div></div><div class=\"sk-parallel-item\"><div class=\"sk-item\"><div class=\"sk-label-container\"><div class=\"sk-label sk-toggleable\"><input class=\"sk-toggleable__control sk-hidden--visually\" id=\"sk-estimator-id-5\" type=\"checkbox\" ><label for=\"sk-estimator-id-5\" class=\"sk-toggleable__label sk-toggleable__label-arrow\">cat</label><div class=\"sk-toggleable__content\"><pre>Index([&#x27;primary_use&#x27;], dtype=&#x27;object&#x27;)</pre></div></div></div><div class=\"sk-serial\"><div class=\"sk-item\"><div class=\"sk-estimator sk-toggleable\"><input class=\"sk-toggleable__control sk-hidden--visually\" id=\"sk-estimator-id-6\" type=\"checkbox\" ><label for=\"sk-estimator-id-6\" class=\"sk-toggleable__label sk-toggleable__label-arrow\">OneHotEncoder</label><div class=\"sk-toggleable__content\"><pre>OneHotEncoder()</pre></div></div></div></div></div></div></div></div><div class=\"sk-item\"><div class=\"sk-estimator sk-toggleable\"><input class=\"sk-toggleable__control sk-hidden--visually\" id=\"sk-estimator-id-7\" type=\"checkbox\" ><label for=\"sk-estimator-id-7\" class=\"sk-toggleable__label sk-toggleable__label-arrow\">LinearRegression</label><div class=\"sk-toggleable__content\"><pre>LinearRegression()</pre></div></div></div></div></div></div></div>"
            ]
          },
          "metadata": {},
          "execution_count": 17
        }
      ]
    },
    {
      "cell_type": "markdown",
      "source": [
        "**Step 5: Train-Test Split**\n",
        "\n",
        "Using test_size=0.1, random_state=0"
      ],
      "metadata": {
        "id": "G0RERmybn5Gp"
      }
    },
    {
      "cell_type": "code",
      "source": [
        "from sklearn.model_selection import train_test_split\n",
        "\n",
        "# Split the data into training and testing sets\n",
        "# Assuming A_sampled is your feature matrix and B_sampled is your target variable\n",
        "A_train, A_test, B_train, B_test = train_test_split(A_sampled, B_sampled, test_size=0.1, random_state=0)\n",
        "\n",
        "# Verify the shapes of the training and testing sets\n",
        "print(\"Shape of A_train:\", A_train.shape)\n",
        "print(\"Shape of B_train:\", B_train.shape)\n",
        "print(\"Shape of A_test:\", A_test.shape)\n",
        "print(\"Shape of B_test:\", B_test.shape)\n"
      ],
      "metadata": {
        "colab": {
          "base_uri": "https://localhost:8080/"
        },
        "id": "thh2Lc8Gmd_P",
        "outputId": "13d4d4db-76f2-4fac-c8cd-a591675e99af"
      },
      "execution_count": null,
      "outputs": [
        {
          "output_type": "stream",
          "name": "stdout",
          "text": [
            "Shape of A_train: (30686, 22)\n",
            "Shape of B_train: (30686,)\n",
            "Shape of A_test: (3410, 22)\n",
            "Shape of B_test: (3410,)\n"
          ]
        }
      ]
    },
    {
      "cell_type": "markdown",
      "source": [
        "**Step 6: Model Performance Analysis**"
      ],
      "metadata": {
        "id": "oUgDbfz1mxP9"
      }
    },
    {
      "cell_type": "markdown",
      "source": [
        "**Step 6.1: Model Accuracy and Cross-validation accuracy**"
      ],
      "metadata": {
        "id": "uqVku11ooHjm"
      }
    },
    {
      "cell_type": "code",
      "source": [
        "from sklearn.model_selection import train_test_split, cross_val_score\n",
        "from sklearn.metrics import accuracy_score\n",
        "from sklearn.linear_model import LogisticRegression\n",
        "from sklearn.neighbors import KNeighborsClassifier\n",
        "from sklearn.ensemble import RandomForestClassifier\n",
        "\n",
        "# Split the data into training and testing sets\n",
        "X_train, X_test, y_train, y_test = train_test_split(A_preprocessed, B_sampled, test_size=0.2, random_state=42)\n",
        "\n",
        "# Define classifiers\n",
        "classifiers = {\n",
        "    'Logistic Regression': LogisticRegression(max_iter=1000),\n",
        "    'K-Nearest Neighbors': KNeighborsClassifier(),\n",
        "    'Random Forest': RandomForestClassifier(random_state=42)\n",
        "}\n",
        "\n",
        "# Train and evaluate each classifier\n",
        "for name, clf in classifiers.items():\n",
        "    # Train the classifier\n",
        "    clf.fit(X_train, y_train)\n",
        "\n",
        "    # Predict on the test set\n",
        "    y_pred = clf.predict(X_test)\n",
        "\n",
        "    # Calculate accuracy\n",
        "    accuracy = accuracy_score(y_test, y_pred)\n",
        "\n",
        "    print(f\"{name} accuracy: {accuracy}\")\n",
        "\n",
        "# Optionally, you can also perform cross-validation to get more robust estimates of performance\n",
        "for name, clf in classifiers.items():\n",
        "    # Perform cross-validation\n",
        "    cv_scores = cross_val_score(clf, A_preprocessed, B_sampled, cv=5)\n",
        "\n",
        "    print(f\"{name} cross-validation accuracy: {cv_scores.mean()} (±{cv_scores.std()})\")\n"
      ],
      "metadata": {
        "colab": {
          "base_uri": "https://localhost:8080/"
        },
        "id": "hD32UBvYp7qz",
        "outputId": "12a74728-7201-4ad3-81d9-2c97bcd8f60e"
      },
      "execution_count": null,
      "outputs": [
        {
          "output_type": "stream",
          "name": "stdout",
          "text": [
            "Logistic Regression accuracy: 1.0\n",
            "K-Nearest Neighbors accuracy: 0.9604105571847508\n",
            "Random Forest accuracy: 1.0\n",
            "Logistic Regression cross-validation accuracy: 1.0 (±0.0)\n",
            "K-Nearest Neighbors cross-validation accuracy: 0.9648052212229157 (±0.0013982436279715718)\n",
            "Random Forest cross-validation accuracy: 1.0 (±0.0)\n"
          ]
        }
      ]
    },
    {
      "cell_type": "markdown",
      "source": [
        "**Step 6.2: Best Score Evaluation**"
      ],
      "metadata": {
        "id": "VcnKmSnFoNZu"
      }
    },
    {
      "cell_type": "code",
      "source": [
        "from sklearn.model_selection import train_test_split, cross_val_score, GridSearchCV\n",
        "from sklearn.metrics import accuracy_score\n",
        "\n",
        "# Split the data into training and testing sets\n",
        "X_train, X_test, y_train, y_test = train_test_split(A_preprocessed, B_sampled, test_size=0.2, random_state=42)\n",
        "\n",
        "# Define classifiers\n",
        "classifiers = {\n",
        "    'Logistic Regression': LogisticRegression(max_iter=1000),\n",
        "    'K-Nearest Neighbors': KNeighborsClassifier(),\n",
        "    'Random Forest': RandomForestClassifier(random_state=42)\n",
        "}\n",
        "\n",
        "# Define parameter grids for grid search\n",
        "param_grids = {\n",
        "    'Logistic Regression': {'C': [0.001, 0.01, 0.1, 1, 10, 100]},\n",
        "    'K-Nearest Neighbors': {'n_neighbors': [3, 5, 7, 9]},\n",
        "    'Random Forest': {'n_estimators': [100, 200, 300], 'max_depth': [None, 5, 10]}\n",
        "}\n",
        "\n",
        "# Perform grid search and print out results for each classifier\n",
        "for name, clf in classifiers.items():\n",
        "    print(f\"Performing grid search for {name}\")\n",
        "    grid_search = GridSearchCV(clf, param_grids[name], cv=5)\n",
        "    grid_search.fit(X_train, y_train)\n",
        "\n",
        "    # Print best parameters\n",
        "    print(f\"Best parameters: {grid_search.best_params_}\")\n",
        "\n",
        "    # Print best cross-validation train score\n",
        "    print(f\"Best cross-validation train score: {grid_search.best_score_}\")\n",
        "\n",
        "    # Print best cross-validation test score\n",
        "    print(f\"Best cross-validation test score: {grid_search.score(X_test, y_test)}\")\n",
        "\n",
        "    # Train the model with best parameters on full training set\n",
        "    best_clf = grid_search.best_estimator_\n",
        "    best_clf.fit(X_train, y_train)\n",
        "\n",
        "    # Evaluate on test set\n",
        "    test_accuracy = accuracy_score(y_test, best_clf.predict(X_test))\n",
        "    print(f\"Test set accuracy: {test_accuracy}\\n\")\n"
      ],
      "metadata": {
        "colab": {
          "base_uri": "https://localhost:8080/"
        },
        "id": "pungGBmK8Egq",
        "outputId": "e2ca8741-295a-4a6b-93eb-a2e3763c9958"
      },
      "execution_count": null,
      "outputs": [
        {
          "output_type": "stream",
          "name": "stdout",
          "text": [
            "Performing grid search for Logistic Regression\n",
            "Best parameters: {'C': 0.01}\n",
            "Best cross-validation train score: 1.0\n",
            "Best cross-validation test score: 1.0\n",
            "Test set accuracy: 1.0\n",
            "\n",
            "Performing grid search for K-Nearest Neighbors\n",
            "Best parameters: {'n_neighbors': 3}\n",
            "Best cross-validation train score: 0.9609913555590797\n",
            "Best cross-validation test score: 0.9615835777126099\n",
            "Test set accuracy: 0.9615835777126099\n",
            "\n",
            "Performing grid search for Random Forest\n",
            "Best parameters: {'max_depth': None, 'n_estimators': 100}\n",
            "Best cross-validation train score: 1.0\n",
            "Best cross-validation test score: 1.0\n",
            "Test set accuracy: 1.0\n",
            "\n"
          ]
        }
      ]
    },
    {
      "cell_type": "markdown",
      "source": [
        "**Step 6.3: Plotting the Learning Curve**"
      ],
      "metadata": {
        "id": "BZPCbR-FoVEt"
      }
    },
    {
      "cell_type": "code",
      "source": [
        "import numpy as np\n",
        "import matplotlib.pyplot as plt\n",
        "from sklearn.model_selection import learning_curve\n",
        "\n",
        "# Define a function to plot learning curves\n",
        "def plot_learning_curve(estimator, title, X, y, ylim=None, cv=None, n_jobs=None, train_sizes=np.linspace(.1, 1.0, 5)):\n",
        "    plt.figure()\n",
        "    plt.title(title)\n",
        "    if ylim is not None:\n",
        "        plt.ylim(*ylim)\n",
        "    plt.xlabel(\"Training examples\")\n",
        "    plt.ylabel(\"Score\")\n",
        "    train_sizes, train_scores, test_scores = learning_curve(\n",
        "        estimator, X, y, cv=cv, n_jobs=n_jobs, train_sizes=train_sizes)\n",
        "    train_scores_mean = np.mean(train_scores, axis=1)\n",
        "    train_scores_std = np.std(train_scores, axis=1)\n",
        "    test_scores_mean = np.mean(test_scores, axis=1)\n",
        "    test_scores_std = np.std(test_scores, axis=1)\n",
        "    plt.grid()\n",
        "\n",
        "    plt.fill_between(train_sizes, train_scores_mean - train_scores_std,\n",
        "                     train_scores_mean + train_scores_std, alpha=0.1,\n",
        "                     color=\"r\")\n",
        "    plt.fill_between(train_sizes, test_scores_mean - test_scores_std,\n",
        "                     test_scores_mean + test_scores_std, alpha=0.1, color=\"g\")\n",
        "    plt.plot(train_sizes, train_scores_mean, 'o-', color=\"r\",\n",
        "             label=\"Training score\")\n",
        "    plt.plot(train_sizes, test_scores_mean, 'o-', color=\"g\",\n",
        "             label=\"Cross-validation score\")\n",
        "\n",
        "    plt.legend(loc=\"best\")\n",
        "    return plt\n",
        "\n",
        "# Plot learning curves for each classifier\n",
        "for name, clf in classifiers.items():\n",
        "    plot_learning_curve(clf, f\"Learning Curve ({name})\", X_train, y_train, cv=5, n_jobs=-1)\n",
        "\n",
        "plt.show()\n"
      ],
      "metadata": {
        "colab": {
          "base_uri": "https://localhost:8080/",
          "height": 1000
        },
        "id": "rRIdZJslGgOF",
        "outputId": "33dad822-da5b-406c-99c5-e9ac76185917"
      },
      "execution_count": null,
      "outputs": [
        {
          "output_type": "display_data",
          "data": {
            "text/plain": [
              "<Figure size 640x480 with 1 Axes>"
            ],
            "image/png": "[encoded data removed]"
          },
          "metadata": {}
        },
        {
          "output_type": "display_data",
          "data": {
            "text/plain": [
              "<Figure size 640x480 with 1 Axes>"
            ],
            "image/png": "[encoded data removed]"
          },
          "metadata": {}
        },
        {
          "output_type": "display_data",
          "data": {
            "text/plain": [
              "<Figure size 640x480 with 1 Axes>"
            ],
            "image/png": "[encoded data removed]"
          },
          "metadata": {}
        }
      ]
    },
    {
      "cell_type": "markdown",
      "source": [
        "**Step 6.4: Best Model Complexity curve**"
      ],
      "metadata": {
        "id": "aTkpNRYKoaZT"
      }
    },
    {
      "cell_type": "code",
      "source": [
        "import numpy as np\n",
        "import matplotlib.pyplot as plt\n",
        "from sklearn.model_selection import validation_curve\n",
        "\n",
        "# Define a function to plot model complexity curves\n",
        "def plot_model_complexity_curve(estimator, title, X, y, param_name, param_range, cv=None, n_jobs=None):\n",
        "    train_scores, test_scores = validation_curve(\n",
        "        estimator, X, y, param_name=param_name, param_range=param_range,\n",
        "        cv=cv, scoring=\"accuracy\", n_jobs=n_jobs)\n",
        "\n",
        "    train_scores_mean = np.mean(train_scores, axis=1)\n",
        "    train_scores_std = np.std(train_scores, axis=1)\n",
        "    test_scores_mean = np.mean(test_scores, axis=1)\n",
        "    test_scores_std = np.std(test_scores, axis=1)\n",
        "\n",
        "    plt.title(title)\n",
        "    plt.xlabel(param_name)\n",
        "    plt.ylabel(\"Score\")\n",
        "    plt.ylim(0.0, 1.1)\n",
        "    lw = 2\n",
        "    plt.plot(param_range, train_scores_mean, label=\"Training score\",\n",
        "                 color=\"darkorange\", lw=lw)\n",
        "    plt.fill_between(param_range, train_scores_mean - train_scores_std,\n",
        "                     train_scores_mean + train_scores_std, alpha=0.2,\n",
        "                     color=\"darkorange\", lw=lw)\n",
        "    plt.plot(param_range, test_scores_mean, label=\"Cross-validation score\",\n",
        "                 color=\"navy\", lw=lw)\n",
        "    plt.fill_between(param_range, test_scores_mean - test_scores_std,\n",
        "                     test_scores_mean + test_scores_std, alpha=0.2,\n",
        "                     color=\"navy\", lw=lw)\n",
        "    plt.legend(loc=\"best\")\n",
        "    return plt\n",
        "\n",
        "# Plot model complexity curves for each classifier\n",
        "for name, clf in classifiers.items():\n",
        "    if name == 'KNeighbors Regressor':\n",
        "        param_range = np.arange(1, 11)  # Example range of hyperparameter values\n",
        "        plot_model_complexity_curve(clf, f\"Model Complexity Curve ({name})\", X_train, y_train, param_name='n_neighbors', param_range=param_range, cv=5, n_jobs=-1)\n",
        "    elif name == 'Logistic Regression':\n",
        "        param_range = [0.001, 0.01, 0.1, 1, 10, 100]  # Example range of hyperparameter values for Logistic Regression\n",
        "        plot_model_complexity_curve(clf, f\"Model Complexity Curve ({name})\", X_train, y_train, param_name='C', param_range=param_range, cv=5, n_jobs=-1)\n",
        "    elif name == 'RandomForest Regressor':\n",
        "        param_range = [10, 50, 100, 200]  # Example range of hyperparameter values for RandomForest Regressor\n",
        "        plot_model_complexity_curve(clf, f\"Model Complexity Curve ({name})\", X_train, y_train, param_name='n_estimators', param_range=param_range, cv=5, n_jobs=-1)\n",
        "\n",
        "plt.show()\n"
      ],
      "metadata": {
        "colab": {
          "base_uri": "https://localhost:8080/",
          "height": 480
        },
        "id": "lL_AtiULMSbc",
        "outputId": "1f3caa3f-c1e7-47a8-9f62-3864eb03e918"
      },
      "execution_count": null,
      "outputs": [
        {
          "output_type": "display_data",
          "data": {
            "text/plain": [
              "<Figure size 640x480 with 1 Axes>"
            ],
            "image/png": "[encoded data removed]"
          },
          "metadata": {}
        }
      ]
    },
    {
      "cell_type": "markdown",
      "source": [
        "**Step 6.5: Best Method declaration**"
      ],
      "metadata": {
        "id": "rT5s0RJWohRy"
      }
    },
    {
      "cell_type": "code",
      "source": [
        "# Test set accuracies obtained from the grid search results\n",
        "logistic_regression_accuracy = 1.0\n",
        "knn_accuracy = 0.9615835777126099\n",
        "random_forest_accuracy = 1.0\n",
        "\n",
        "# Determine the best method based on test set accuracy\n",
        "best_accuracy = max(logistic_regression_accuracy, knn_accuracy, random_forest_accuracy)\n",
        "\n",
        "if best_accuracy == logistic_regression_accuracy:\n",
        "    best_method = 'Logistic Regression'\n",
        "elif best_accuracy == knn_accuracy:\n",
        "    best_method = 'K-Nearest Neighbors'\n",
        "elif best_accuracy == random_forest_accuracy:\n",
        "    best_method = 'Random Forest'\n",
        "\n",
        "print(f\"The best method is: {best_method} with test set accuracy: {best_accuracy}\")\n"
      ],
      "metadata": {
        "colab": {
          "base_uri": "https://localhost:8080/"
        },
        "id": "rscj2oKMRxkB",
        "outputId": "d4b4492d-3c53-4063-cb5f-738a303cf324"
      },
      "execution_count": null,
      "outputs": [
        {
          "output_type": "stream",
          "name": "stdout",
          "text": [
            "The best method is: Logistic Regression with test set accuracy: 1.0\n"
          ]
        }
      ]
    },
    {
      "cell_type": "markdown",
      "source": [
        "**Step 6.6: Classification Report**"
      ],
      "metadata": {
        "id": "z4Oe_NVeopeU"
      }
    },
    {
      "cell_type": "code",
      "source": [
        "from sklearn.linear_model import LogisticRegression\n",
        "\n",
        "# Instantiate the logistic regression model\n",
        "best_model = LogisticRegression()\n",
        "\n",
        "# Train your model\n",
        "best_model.fit(X_train, y_train)\n",
        "\n",
        "# Make predictions using the trained model\n",
        "predictions = best_model.predict(X_test)\n",
        "\n",
        "# Now you can evaluate model performance\n",
        "from sklearn.metrics import accuracy_score, classification_report, confusion_matrix\n",
        "\n",
        "# Evaluate model performance\n",
        "accuracy = accuracy_score(y_test, predictions)\n",
        "print(\"Accuracy:\", accuracy)\n",
        "\n",
        "# Generate classification report\n",
        "print(\"Classification Report:\")\n",
        "print(classification_report(y_test, predictions))\n",
        "\n",
        "# Generate confusion matrix\n",
        "print(\"Confusion Matrix:\")\n",
        "print(confusion_matrix(y_test, predictions))\n"
      ],
      "metadata": {
        "colab": {
          "base_uri": "https://localhost:8080/"
        },
        "id": "W0TPVRrBi5Ro",
        "outputId": "88393b99-92e1-40b0-d701-5b4d52b4020c"
      },
      "execution_count": null,
      "outputs": [
        {
          "output_type": "stream",
          "name": "stdout",
          "text": [
            "Accuracy: 1.0\n",
            "Classification Report:\n",
            "              precision    recall  f1-score   support\n",
            "\n",
            "           0       1.00      1.00      1.00      1288\n",
            "           1       1.00      1.00      1.00       157\n",
            "           2       1.00      1.00      1.00      1619\n",
            "           3       1.00      1.00      1.00      3756\n",
            "\n",
            "    accuracy                           1.00      6820\n",
            "   macro avg       1.00      1.00      1.00      6820\n",
            "weighted avg       1.00      1.00      1.00      6820\n",
            "\n",
            "Confusion Matrix:\n",
            "[[1288    0    0    0]\n",
            " [   0  157    0    0]\n",
            " [   0    0 1619    0]\n",
            " [   0    0    0 3756]]\n"
          ]
        }
      ]
    },
    {
      "cell_type": "markdown",
      "source": [
        "\n",
        "**Reference:**\n",
        "\n",
        "1. ASHRAE - Great Energy Predictor III. (n.d.). Kaggle.com. https://www.kaggle.com/competitions/ashrae-energy-prediction/data\n",
        "\n",
        "2.  ‌OpenAI. (2023). ChatGPT (Mar 14 version) [Large language model]\n",
        "\n"
      ],
      "metadata": {
        "id": "p03t4Rpt2rm3"
      }
    }
  ]
}